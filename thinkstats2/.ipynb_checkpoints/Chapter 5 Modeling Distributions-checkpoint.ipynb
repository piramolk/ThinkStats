{
 "cells": [
  {
   "attachments": {
    "Screenshot%202021-11-12%20at%205.15.47%20PM.png": {
     "image/png": "[encoded data removed]"
    }
   },
   "cell_type": "markdown",
   "id": "1052b47c",
   "metadata": {},
   "source": [
    "# About\n",
    "* Chapter 5 of Allen Downey's Think Stats 2nd editon\n",
    "* Includes key concepts and exercises\n",
    "\n",
    "# 5. Modeling distributions\n",
    "\n",
    "* Distributions are either empirical or analytic\n",
    "    * the latter is characterized by a CDF that is a mathematical function\n",
    "* Analytic distributions can be used to model empirical distributions. In this context, a model is a simpli cation that leaves out unneeded details.\n",
    "\n",
    "# 5.1 The exponential distrbution\n",
    "* The CDF of an exponential distribution is\n",
    "![Screenshot%202021-11-12%20at%205.15.47%20PM.png](attachment:Screenshot%202021-11-12%20at%205.15.47%20PM.png)\n",
    "* the parameter lambda determines the shape of the distribution\n",
    "* Fig 5.1 demonstrates how the shape of the CDF curve changes with lambda\n",
    "\n",
    "\n",
    "## When do we use exponential distributions?\n",
    "* Usually when we look at a series of events and measure the times between events (i.e. interarrival times)\n",
    "* If the events are equally likely at any time, the distribution of interarrival times tends to look like an exponential distribution \n",
    "\n",
    "## How can we tell if it an exponential distribution?\n",
    "* We cn plot the complementary CDF, which is `1-CDF(x)`, on a log-y scale\n",
    "* For data from an exponential distribution, the result is a straight line\n",
    "* If you plot the complementary CDF (CCDF) of a dataset that you think is exponential, you expect to see a function like:\n",
    "\n",
    "\n",
    "* So on a log-y scale, the CCDF is a straight line with slope `-lambda`\n",
    "* The parameter, lambda , can be interpreted as a rate; that is, the number of events that occur, on average, in a unit of time. \n",
    "    * In one example, 44 babies are born in 24 hours, so the rate is   = 0:0306 births per minute. The mean of an exponential distribution is 1= , so the mean time between births is 32.7 minutes.\n",
    "    \n",
    "    \n",
    "# 5.2 The Normal Distribution\n",
    "* also called Gaussian\n",
    "* Fairly ubiquitous\n",
    "* It is characterized by two parameters: the mean (miu) and the standard deviation (sigma)\n",
    "* The normal distribution with   = 0 and   = 1 is called the standard normal distribution\n",
    "\n",
    "\n",
    "# 5.3 Normal probability plot\n",
    "\n",
    "* For the exponential distribution, and a few others, there are simple transformations we can use to test whether an analytic distribution is a good model for a dataset.\n",
    "* For the normal distribution there is no such transformation, but there is an alternative called a normal probability plot\n",
    "\n",
    "## The easy way of generating a normal probability plot\n",
    "> 1. Sort the values in the sample\n",
    "> 2. From s tandard normal distirbution ( miu = 0, sigma =1), generate a random sample with the same size as the sample and sort it\n",
    "> 3. Plot the sorted vales from the sample versus the random values.\n",
    "> 4. If the distribution of the sample is approximately normal, the result is a\n",
    "straight line with intercept mu and slope sigma\n",
    "\n",
    "\n",
    "# 5.4 The lognormal distribution\n",
    "* If the logarithms of a set of values have a normal distribution, the values have a lognormal distribution. \n",
    "* The CDF of the lognormal distribution is the same as the CDF of the normal distribution, with logx substituted for x.\n",
    "\n",
    "* The parameters are usually denoted miu and sigma\n",
    "    * But these parameters are <b> NOT </b> the mean and standard deviation\n",
    "        * Mean of a lognormal distribution: exp( miu + (sigma^2)/2)\n",
    "        * The standard deviation....is ugly\n",
    "        \n",
    "* If a sample is approximately lognormal and you plot its CDF on a log-x scale, it will have the characteristic shape of a normal distribution. \n",
    "* To test how well the sample  ts a lognormal model, you can make a normal probability plot using the log of the values in the sample."
   ]
  },
  {
   "cell_type": "markdown",
   "id": "41bc8823",
   "metadata": {},
   "source": [
    "# Exercises"
   ]
  },
  {
   "cell_type": "markdown",
   "id": "06bc1953",
   "metadata": {},
   "source": [
    "## Exercise 5.1\n",
    "> * In the BRFSS (see Section 5.4), the distribution of heights is roughly normal with parameters  miu = 178 cm and  sigma = 7.7 cm for men, and miu= 163 cm and  sigma = 7:3 cm for women.\n",
    "> * In order to join Blue Man Group, you have to be male between 5'10\" and 6'1\" \n",
    "> * What percentage of the U.S. male population is in this range? Hint: use scipy.stats.norm.cdf."
   ]
  },
  {
   "cell_type": "code",
   "execution_count": 3,
   "id": "9308382b",
   "metadata": {},
   "outputs": [],
   "source": [
    "import scipy\n",
    "from scipy.stats import norm\n",
    "import matplotlib.pyplot as plt"
   ]
  },
  {
   "cell_type": "code",
   "execution_count": 4,
   "id": "e79d1027",
   "metadata": {},
   "outputs": [
    {
     "data": {
      "text/plain": [
       "scipy.stats._distn_infrastructure.rv_frozen"
      ]
     },
     "execution_count": 4,
     "metadata": {},
     "output_type": "execute_result"
    }
   ],
   "source": [
    "## for the men's parameters\n",
    "mu = 178\n",
    "sigma = 7.7\n",
    "male_dist = scipy.stats.norm(loc=mu, scale=sigma)\n",
    "type(male_dist)"
   ]
  },
  {
   "cell_type": "code",
   "execution_count": 6,
   "id": "63a89cb0",
   "metadata": {},
   "outputs": [
    {
     "data": {
      "text/plain": [
       "(178.0, 7.7)"
      ]
     },
     "execution_count": 6,
     "metadata": {},
     "output_type": "execute_result"
    }
   ],
   "source": [
    "# frozen distribution -> can compute mean and stdev\n",
    "male_dist.mean(), male_dist.std()"
   ]
  },
  {
   "cell_type": "code",
   "execution_count": 8,
   "id": "c4975491",
   "metadata": {},
   "outputs": [
    {
     "data": {
      "text/plain": [
       "0.1586552539314574"
      ]
     },
     "execution_count": 8,
     "metadata": {},
     "output_type": "execute_result"
    }
   ],
   "source": [
    "# evaluate cdf\n",
    "male_dist.cdf(mu-sigma)"
   ]
  },
  {
   "cell_type": "markdown",
   "id": "1defde47",
   "metadata": {},
   "source": [
    "* ~16% of people are beyond one stdev below the mean"
   ]
  },
  {
   "cell_type": "code",
   "execution_count": 12,
   "id": "624f37c9",
   "metadata": {},
   "outputs": [
    {
     "data": {
      "text/plain": [
       "(0.5, 0.818348929556551, 0.31834892955655103)"
      ]
     },
     "execution_count": 12,
     "metadata": {},
     "output_type": "execute_result"
    }
   ],
   "source": [
    "# How many peopl betwen 5'10 and 6'1?\n",
    "# 5'10 ~ 178\n",
    "# 6'1 ~ 185\n",
    "low = male_dist.cdf(178)\n",
    "high = male_dist.cdf(185)\n",
    "low,high,high-low"
   ]
  },
  {
   "cell_type": "markdown",
   "id": "dea28f34",
   "metadata": {},
   "source": [
    "## Exercise 5.3 \n",
    "> * The Weibull distribution is a generalization of the exponential distribution that comes up in failure analysis (see http://wikipedia.org/wiki/Weibull_distribution). \n",
    "> * Its CDF is CDF(x) = 1 - e^(-(x/lambda)^k)\n",
    "> * Can you find a transformation that makes a Weibull distribution look like a straight line? \n",
    "> * What do the slope and intercept of the line indicate?\n",
    "> Use random.weibullvariate to generate a sample from a Weibull distribu- tion and use it to test your transformation.\n",
    "\n",
    "CDF(x) = 1 - exp^-(x^k)\n",
    "taking a log of the RHS\n",
    "logCDF(x) = k/lambda log (-x/lambda)\n",
    "\n",
    "* Weibull distribution has the general form\n",
    "> F(t) = 1 - exp(-(t/a)^b)\n",
    "    * in our case, t=x, a=lambda, b=k\n",
    "* let (x/lambda)^k be z\n",
    "    * G(z) = 1-exp(-z)\n",
    "\n",
    "* Double logarithmic transformative and rearrangment changes the above to\n",
    "> ln(t) = ln(a) + (1/b)ln(ln(1/(1-F))\n",
    "* slope = 1/b = 1/lambda\n",
    "* intercept = ln(a)"
   ]
  },
  {
   "cell_type": "code",
   "execution_count": null,
   "id": "4da038c4",
   "metadata": {},
   "outputs": [],
   "source": []
  }
 ],
 "metadata": {
  "kernelspec": {
   "display_name": "Python 3",
   "language": "python",
   "name": "python3"
  },
  "language_info": {
   "codemirror_mode": {
    "name": "ipython",
    "version": 3
   },
   "file_extension": ".py",
   "mimetype": "text/x-python",
   "name": "python",
   "nbconvert_exporter": "python",
   "pygments_lexer": "ipython3",
   "version": "3.9.5"
  }
 },
 "nbformat": 4,
 "nbformat_minor": 5
}
