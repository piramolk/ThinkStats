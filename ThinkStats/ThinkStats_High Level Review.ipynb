{
 "cells": [
  {
   "cell_type": "code",
   "execution_count": null,
   "id": "fcaaaa8b",
   "metadata": {},
   "outputs": [],
   "source": []
  },
  {
   "cell_type": "code",
   "execution_count": null,
   "id": "9888f89b",
   "metadata": {},
   "outputs": [],
   "source": [
    "# Statistics module"
   ]
  },
  {
   "cell_type": "code",
   "execution_count": 4,
   "id": "6d6dad8b",
   "metadata": {},
   "outputs": [],
   "source": [
    "import statistics\n",
    "import numpy as np"
   ]
  },
  {
   "cell_type": "markdown",
   "id": "89f577ec",
   "metadata": {},
   "source": [
    "## Calculating standard deviation using stdev()\n",
    "* calculates standard dev from a sample of data, rather than an entire population\n",
    "* `stdev([data-set],xbar]`\n",
    "* `[data]`: iteranle with real valued numbers\n",
    "* `xbar`: optional. Takes actual mean of data set as a value\n",
    "* return:\n",
    "    * returns  actual standard deviation of the values passed as parameter.\n",
    "    \n",
    "## Calculating standard deviation with numpy.std\n",
    "* `numpy.std(a, axis=None, dtype=None, out=None, ddof=0, keepdims=<no value>, *, where=<no value>)`\n",
    "* axis:\n",
    "    * axis/axes along which stdev is computed, default is the sdtd of the flattened array\n",
    "* dtype: type to use in computing stdev. For arrays of int, the default is float64\n",
    "* out: ndarray, optional\n",
    " "
   ]
  },
  {
   "cell_type": "code",
   "execution_count": 6,
   "id": "ae9594bf",
   "metadata": {},
   "outputs": [
    {
     "name": "stdout",
     "output_type": "stream",
     "text": [
      "1.5811388300841898\n",
      "std(a):  1.118033988749895\n",
      "std(axis=0):  [1. 1.]\n",
      "std(axis=1):  [0.5 0.5]\n"
     ]
    }
   ],
   "source": [
    "## statistics.stdev()\n",
    "sample = [1, 2, 3, 4, 5]\n",
    "print(statistics.stdev(sample))\n",
    "\n",
    "## numpy.std()\n",
    "a = np.array([[1, 2], [3, 4]])\n",
    "print('std(a): ',np.std(a))\n",
    "print('std(axis=0): ', np.std(a, axis=0))\n",
    "print('std(axis=1): ',np.std(a, axis=1))\n"
   ]
  },
  {
   "cell_type": "markdown",
   "id": "dc0bd53e",
   "metadata": {},
   "source": [
    "# Histograms\n",
    "## Histograms in Pure Python\n"
   ]
  },
  {
   "cell_type": "code",
   "execution_count": 8,
   "id": "943cae75",
   "metadata": {},
   "outputs": [
    {
     "data": {
      "text/plain": [
       "{0: 1, 1: 3, 2: 1, 3: 1, 7: 2, 23: 1}"
      ]
     },
     "execution_count": 8,
     "metadata": {},
     "output_type": "execute_result"
    }
   ],
   "source": [
    "a = (0, 1, 1, 1, 2, 3, 7, 7, 23)\n",
    "\n",
    "def count_elements(seq) -> dict:\n",
    "    \"Tally elements from seq\"\n",
    "    hist = {}\n",
    "    for i in seq:\n",
    "        hist[i] = hist.get(i,0) +1\n",
    "    return hist\n",
    "counted = count_elements(a)\n",
    "counted"
   ]
  },
  {
   "cell_type": "code",
   "execution_count": 9,
   "id": "09f66685",
   "metadata": {},
   "outputs": [
    {
     "data": {
      "text/plain": [
       "Counter({0: 1, 1: 3, 2: 1, 3: 1, 7: 2, 23: 1})"
      ]
     },
     "execution_count": 9,
     "metadata": {},
     "output_type": "execute_result"
    }
   ],
   "source": [
    "from collections import Counter\n",
    "\n",
    "recounted = Counter(a)\n",
    "recounted"
   ]
  },
  {
   "cell_type": "markdown",
   "id": "61f0b512",
   "metadata": {},
   "source": [
    "## Histogram Calculations in NumPy"
   ]
  },
  {
   "cell_type": "code",
   "execution_count": 11,
   "id": "a2f5e7e4",
   "metadata": {},
   "outputs": [],
   "source": [
    "import numpy as np\n",
    "\n",
    "np.random.seed(444)\n",
    "np.set_printoptions(precision=3)"
   ]
  },
  {
   "cell_type": "code",
   "execution_count": 12,
   "id": "46dd9e56",
   "metadata": {},
   "outputs": [
    {
     "data": {
      "text/plain": [
       "array([18.406, 18.087, 16.004, 16.221,  7.358])"
      ]
     },
     "execution_count": 12,
     "metadata": {},
     "output_type": "execute_result"
    }
   ],
   "source": [
    "d = np.random.laplace(loc=15, scale =3, size=500)\n",
    "d[:5]"
   ]
  },
  {
   "cell_type": "markdown",
   "id": "80114d61",
   "metadata": {},
   "source": [
    "* Laplace distribution. This distribution has fatter tails than a normal distribution and has two descriptive parameters (location and scale):\n",
    "* this is a continuous distribution so tallying each float independently is just not realistic\n",
    "* instead, we can bin or bucket the data and count the observations that fall into each bin"
   ]
  },
  {
   "cell_type": "code",
   "execution_count": 13,
   "id": "bde38b4f",
   "metadata": {},
   "outputs": [
    {
     "data": {
      "text/plain": [
       "array([ 13,  23,  91, 261,  80,  21,   7,   2,   1,   1])"
      ]
     },
     "execution_count": 13,
     "metadata": {},
     "output_type": "execute_result"
    }
   ],
   "source": [
    "hist, bin_edges = np.histogram(d)\n",
    "hist"
   ]
  },
  {
   "cell_type": "code",
   "execution_count": 14,
   "id": "35cbe341",
   "metadata": {},
   "outputs": [
    {
     "data": {
      "text/plain": [
       "array([ 2.11 ,  5.874,  9.638, 13.402, 17.166, 20.93 , 24.694, 28.458,\n",
       "       32.222, 35.986, 39.749])"
      ]
     },
     "execution_count": 14,
     "metadata": {},
     "output_type": "execute_result"
    }
   ],
   "source": [
    "bin_edges\n",
    "#np.historgram() by default uses 10 equally sized bins and \n",
    "#returns a tuple of freq counts and corresponding bin egdes"
   ]
  },
  {
   "cell_type": "code",
   "execution_count": 15,
   "id": "4ea825fd",
   "metadata": {},
   "outputs": [
    {
     "data": {
      "text/plain": [
       "(10, 11)"
      ]
     },
     "execution_count": 15,
     "metadata": {},
     "output_type": "execute_result"
    }
   ],
   "source": [
    "hist.size, bin_edges.size"
   ]
  },
  {
   "cell_type": "code",
   "execution_count": 18,
   "id": "fc72dd5c",
   "metadata": {},
   "outputs": [
    {
     "data": {
      "text/plain": [
       "array([ 0. ,  2.3,  4.6,  6.9,  9.2, 11.5, 13.8, 16.1, 18.4, 20.7, 23. ])"
      ]
     },
     "execution_count": 18,
     "metadata": {},
     "output_type": "execute_result"
    }
   ],
   "source": [
    "# The leftmost and rightmost bin edges\n",
    "first_edge, last_edge = np.min(a), np.max(a)\n",
    "\n",
    "n_equal_bins = 10  # NumPy's default\n",
    "bin_edges = np.linspace(start=first_edge, stop=last_edge,\n",
    "                         num=n_equal_bins + 1, endpoint=True)\n",
    "\n",
    "bin_edges"
   ]
  },
  {
   "cell_type": "markdown",
   "id": "d3a6f5c7",
   "metadata": {},
   "source": [
    "## Visualising histograms with matplotlib and pandas"
   ]
  },
  {
   "cell_type": "code",
   "execution_count": 22,
   "id": "3d5f0282",
   "metadata": {},
   "outputs": [
    {
     "data": {
      "text/plain": [
       "(0.0, 80.0)"
      ]
     },
     "execution_count": 22,
     "metadata": {},
     "output_type": "execute_result"
    },
    {
     "data": {
      "image/png": "[encoded data removed]",
      "text/plain": [
       "<Figure size 432x288 with 1 Axes>"
      ]
     },
     "metadata": {
      "needs_background": "light"
     },
     "output_type": "display_data"
    }
   ],
   "source": [
    "import matplotlib.pyplot as plt\n",
    "\n",
    "\n",
    "# An \"interface\" to matplotlib.axes.Axes.hist() method\n",
    "n, bins, patches = plt.hist(x=d, bins='auto', color='#0504aa',\n",
    "                            alpha=0.7, rwidth=0.85)\n",
    "plt.grid(axis='y',alpha=0.75)\n",
    "plt.xlabel('Value')\n",
    "plt.ylabel('Frequency')\n",
    "plt.title('My Very Own Histogram')\n",
    "plt.text(23, 45, r'$\\mu=15, b=3$')\n",
    "maxfreq = np.max(n)\n",
    "# Set a clean upper y-axis limit.\n",
    "plt.ylim(ymax=np.ceil(maxfreq / 10) * 10 if maxfreq % 10 else maxfreq + 10)\n"
   ]
  },
  {
   "cell_type": "code",
   "execution_count": 24,
   "id": "28e7c0a5",
   "metadata": {},
   "outputs": [
    {
     "data": {
      "image/png": "[encoded data removed]",
      "text/plain": [
       "<Figure size 432x288 with 1 Axes>"
      ]
     },
     "metadata": {
      "needs_background": "light"
     },
     "output_type": "display_data"
    }
   ],
   "source": [
    "import pandas as pd\n",
    "\n",
    "# Generate data on commute times.\n",
    "size, scale = 1000, 10\n",
    "commutes = pd.Series(np.random.gamma(scale, size=size) ** 1.5)\n",
    "\n",
    "commutes.plot.hist(grid=True, bins=20, rwidth=0.9,\n",
    "                   color='#607c8e')\n",
    "plt.title('Commute Times for 1,000 Commuters')\n",
    "plt.xlabel('Counts')\n",
    "plt.ylabel('Commute Time')\n",
    "plt.grid(axis='y', alpha=0.75)"
   ]
  },
  {
   "cell_type": "code",
   "execution_count": null,
   "id": "2116121b",
   "metadata": {},
   "outputs": [],
   "source": [
    "# Plotting PMFs"
   ]
  },
  {
   "cell_type": "code",
   "execution_count": null,
   "id": "7a9aba13",
   "metadata": {},
   "outputs": [],
   "source": []
  },
  {
   "cell_type": "code",
   "execution_count": null,
   "id": "8ce9b7cc",
   "metadata": {},
   "outputs": [],
   "source": []
  },
  {
   "cell_type": "code",
   "execution_count": null,
   "id": "f9771b5c",
   "metadata": {},
   "outputs": [],
   "source": []
  },
  {
   "cell_type": "code",
   "execution_count": null,
   "id": "b1faa4ad",
   "metadata": {},
   "outputs": [],
   "source": [
    "# Cumulative distributive functions"
   ]
  },
  {
   "cell_type": "code",
   "execution_count": null,
   "id": "f82372d8",
   "metadata": {},
   "outputs": [],
   "source": []
  },
  {
   "cell_type": "code",
   "execution_count": null,
   "id": "a23e2dc0",
   "metadata": {},
   "outputs": [],
   "source": []
  },
  {
   "cell_type": "code",
   "execution_count": null,
   "id": "88efde6b",
   "metadata": {},
   "outputs": [],
   "source": [
    "## Representing CDFs"
   ]
  },
  {
   "cell_type": "code",
   "execution_count": null,
   "id": "90920e99",
   "metadata": {},
   "outputs": [],
   "source": []
  },
  {
   "cell_type": "code",
   "execution_count": null,
   "id": "5ef5dd12",
   "metadata": {},
   "outputs": [],
   "source": []
  },
  {
   "cell_type": "code",
   "execution_count": null,
   "id": "5016c7ef",
   "metadata": {},
   "outputs": [],
   "source": [
    "# Continuous Functions"
   ]
  },
  {
   "cell_type": "code",
   "execution_count": null,
   "id": "9c480557",
   "metadata": {},
   "outputs": [],
   "source": []
  },
  {
   "cell_type": "code",
   "execution_count": null,
   "id": "5770126d",
   "metadata": {},
   "outputs": [],
   "source": []
  },
  {
   "cell_type": "code",
   "execution_count": null,
   "id": "873bb0a1",
   "metadata": {},
   "outputs": [],
   "source": []
  }
 ],
 "metadata": {
  "kernelspec": {
   "display_name": "Python 3",
   "language": "python",
   "name": "python3"
  },
  "language_info": {
   "codemirror_mode": {
    "name": "ipython",
    "version": 3
   },
   "file_extension": ".py",
   "mimetype": "text/x-python",
   "name": "python",
   "nbconvert_exporter": "python",
   "pygments_lexer": "ipython3",
   "version": "3.8.8"
  }
 },
 "nbformat": 4,
 "nbformat_minor": 5
}
